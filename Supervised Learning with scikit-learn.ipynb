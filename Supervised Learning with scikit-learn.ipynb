{
 "cells": [
  {
   "cell_type": "code",
   "execution_count": 101,
   "id": "7620a841-70f4-4791-872d-621d347bf561",
   "metadata": {},
   "outputs": [],
   "source": [
    "import pandas as pd\n",
    "import numpy as np\n",
    "import matplotlib.pyplot as plt\n",
    "from sklearn.linear_model import LinearRegression\n",
    "from sklearn.model_selection import train_test_split\n",
    "from sklearn.metrics import mean_squared_error\n",
    "from sklearn.metrics import root_mean_squared_error"
   ]
  },
  {
   "cell_type": "code",
   "execution_count": 103,
   "id": "32e40247-7e2e-4b0e-9ab8-1dc989316506",
   "metadata": {
    "scrolled": true
   },
   "outputs": [
    {
     "name": "stdout",
     "output_type": "stream",
     "text": [
      "   Unnamed: 0  account_length  area_code  international_plan  voice_mail_plan  \\\n",
      "0           0             128        415                   0                1   \n",
      "1           1             107        415                   0                1   \n",
      "2           2             137        415                   0                0   \n",
      "3           3              84        408                   1                0   \n",
      "4           4              75        415                   1                0   \n",
      "\n",
      "   number_vmail_messages  total_day_minutes  total_day_calls  \\\n",
      "0                     25              265.1              110   \n",
      "1                     26              161.6              123   \n",
      "2                      0              243.4              114   \n",
      "3                      0              299.4               71   \n",
      "4                      0              166.7              113   \n",
      "\n",
      "   total_day_charge  total_eve_minutes  total_eve_calls  total_eve_charge  \\\n",
      "0             45.07              197.4               99             16.78   \n",
      "1             27.47              195.5              103             16.62   \n",
      "2             41.38              121.2              110             10.30   \n",
      "3             50.90               61.9               88              5.26   \n",
      "4             28.34              148.3              122             12.61   \n",
      "\n",
      "   total_night_minutes  total_night_calls  total_night_charge  \\\n",
      "0                244.7                 91               11.01   \n",
      "1                254.4                103               11.45   \n",
      "2                162.6                104                7.32   \n",
      "3                196.9                 89                8.86   \n",
      "4                186.9                121                8.41   \n",
      "\n",
      "   total_intl_minutes  total_intl_calls  total_intl_charge  \\\n",
      "0                10.0                 3               2.70   \n",
      "1                13.7                 3               3.70   \n",
      "2                12.2                 5               3.29   \n",
      "3                 6.6                 7               1.78   \n",
      "4                10.1                 3               2.73   \n",
      "\n",
      "   customer_service_calls  churn  \n",
      "0                       1      0  \n",
      "1                       1      0  \n",
      "2                       0      0  \n",
      "3                       2      0  \n",
      "4                       3      0  \n"
     ]
    }
   ],
   "source": [
    "churn_df = pd.read_csv('telecom_churn_clean.csv')\n",
    "print(churn_df.head())"
   ]
  },
  {
   "cell_type": "code",
   "execution_count": null,
   "id": "da89ba56-38fc-40cc-9a03-2698f7bdf97f",
   "metadata": {},
   "outputs": [],
   "source": [
    "# Import KNeighborsClassifier\n",
    "from sklearn.neighbors import KNeighborsClassifier \n",
    "\n",
    "y = churn_df[\"churn\"].values\n",
    "X = churn_df[[\"account_length\", \"customer_service_calls\"]].values\n",
    "\n",
    "# Create a KNN classifier with 6 neighbors\n",
    "knn = KNeighborsClassifier(n_neighbors=6)\n",
    "\n",
    "# Fit the classifier to the data\n",
    "knn.fit(X, y)"
   ]
  },
  {
   "cell_type": "code",
   "execution_count": null,
   "id": "771fb1b6-c1e6-4479-a3e6-0c7b834aa957",
   "metadata": {},
   "outputs": [],
   "source": [
    "X_new = np.array([[30.0, 17.5],\n",
    "                  [107.0, 24.1],\n",
    "                  [213.0, 10.9]])\n",
    "\n",
    "# Predict the labels for the X_new\n",
    "y_pred = knn.predict(X_new)\n",
    "\n",
    "# Print the predictions\n",
    "print(\"Predictions: {}\".format(y_pred))"
   ]
  },
  {
   "cell_type": "markdown",
   "id": "9fe7aef8-89c4-49cd-b129-5f01aec7178d",
   "metadata": {},
   "source": [
    "### Accuracy for model prediction formula\n",
    "correct predictions / total observations"
   ]
  },
  {
   "cell_type": "markdown",
   "id": "8e98b3ea-ba92-44dd-b25d-7bff8f718f31",
   "metadata": {},
   "source": [
    "### Train/test split + computing accuracy"
   ]
  },
  {
   "cell_type": "markdown",
   "id": "3f803de8-7bc2-43d0-a2f9-4292dee027e3",
   "metadata": {},
   "source": [
    "We commonly use 20-30% of our data as the test set. By setting the test_size argument to 0.2 we use 20% here.\n",
    "\n",
    "axis=0 means drop row and axis=1 means drop column"
   ]
  },
  {
   "cell_type": "code",
   "execution_count": null,
   "id": "087e5880-8922-45e9-882e-1a39b183f785",
   "metadata": {},
   "outputs": [],
   "source": [
    "# Import the module\n",
    "from sklearn.model_selection import train_test_split\n",
    "\n",
    "#Remove the churn column from the DataFrame (because it's the label we want to predict).\n",
    "#.values means convert the remaining data (features) into a NumPy array.\n",
    "X = churn_df.drop(\"churn\", axis=1).values\n",
    "#print(X)\n",
    "y = churn_df[\"churn\"].values\n",
    "#print(y)\n",
    "\n",
    "# Split into training and test sets\n",
    "X_train, X_test, y_train, y_test = train_test_split(X, y, test_size=0.2, random_state=42, stratify=y)\n",
    "\n",
    "knn = KNeighborsClassifier(n_neighbors=5)\n",
    "\n",
    "# Fit the classifier to the training data\n",
    "knn.fit(X_train, y_train)\n",
    "\n",
    "# Print the accuracy\n",
    "print(knn.score(X_test, y_test))"
   ]
  },
  {
   "cell_type": "markdown",
   "id": "b49a7a53-20d1-49db-9321-b06df8c2232f",
   "metadata": {},
   "source": [
    "### Overfitting and underfitting"
   ]
  },
  {
   "cell_type": "code",
   "execution_count": null,
   "id": "5d23e747-279e-4971-9672-9e83ca14902e",
   "metadata": {},
   "outputs": [],
   "source": [
    "# Create neighbors\n",
    "neighbors = np.arange(1, 13)\n",
    "train_accuracies = {}\n",
    "test_accuracies = {}\n",
    "\n",
    "for neighbor in neighbors:\n",
    "  \n",
    "\t# Set up a KNN Classifier\n",
    "\tknn = KNeighborsClassifier(n_neighbors=neighbor)\n",
    "  \n",
    "\t# Fit the model\n",
    "\tknn.fit(X_train, y_train)\n",
    "  \n",
    "\t# Compute accuracy\n",
    "\ttrain_accuracies[neighbor] = knn.score(X_train, y_train)\n",
    "\ttest_accuracies[neighbor] = knn.score(X_test, y_test)\n",
    "print(neighbors, '\\n', train_accuracies, '\\n', test_accuracies)"
   ]
  },
  {
   "cell_type": "markdown",
   "id": "e45533d0-60e9-42a8-9113-fab0943896a2",
   "metadata": {},
   "source": [
    "### Visualizing model complexity"
   ]
  },
  {
   "cell_type": "code",
   "execution_count": null,
   "id": "54f52b9f-beba-44a1-8de2-9342405fa134",
   "metadata": {},
   "outputs": [],
   "source": [
    "# Add a title\n",
    "plt.title(\"KNN: Varying Number of Neighbors\")\n",
    "\n",
    "# Plot training accuracies\n",
    "plt.plot(neighbors, train_accuracies.values(), label=\"Training Accuracy\")\n",
    "\n",
    "# Plot test accuracies\n",
    "plt.plot(neighbors, test_accuracies.values(), label=\"Testing Accuracy\")\n",
    "\n",
    "plt.legend()\n",
    "plt.xlabel(\"Number of Neighbors\")\n",
    "plt.ylabel(\"Accuracy\")\n",
    "\n",
    "# Display the plot\n",
    "plt.show()"
   ]
  },
  {
   "cell_type": "code",
   "execution_count": null,
   "id": "4270c31c-c74a-4b00-a5ae-3c5b228999fd",
   "metadata": {},
   "outputs": [],
   "source": []
  },
  {
   "cell_type": "markdown",
   "id": "385def7c-e1d4-46de-ae0f-ea722e5e8f02",
   "metadata": {},
   "source": [
    "## Creating Features"
   ]
  },
  {
   "cell_type": "code",
   "execution_count": 15,
   "id": "7b91ce48-4f06-42c1-8210-5bc175800fd9",
   "metadata": {},
   "outputs": [
    {
     "name": "stdout",
     "output_type": "stream",
     "text": [
      "        tv     radio  social_media influencer      sales\n",
      "0  16000.0   6566.23       2907.98       Mega   54732.76\n",
      "1  13000.0   9237.76       2409.57       Mega   46677.90\n",
      "2  41000.0  15886.45       2913.41       Mega  150177.83\n",
      "3  83000.0  30020.03       6922.30       Mega  298246.34\n",
      "4  15000.0   8437.41       1406.00      Micro   56594.18\n"
     ]
    }
   ],
   "source": [
    "sales_df = pd.read_csv('advertising_sales.csv')\n",
    "print(sales_df.head())"
   ]
  },
  {
   "cell_type": "code",
   "execution_count": 23,
   "id": "dc8eea17-8d8d-4778-972d-753190aa2436",
   "metadata": {},
   "outputs": [
    {
     "name": "stdout",
     "output_type": "stream",
     "text": [
      "0        6566.23\n",
      "1        9237.76\n",
      "2       15886.45\n",
      "3       30020.03\n",
      "4        8437.41\n",
      "          ...   \n",
      "4541     4472.36\n",
      "4542    20610.69\n",
      "4543    19800.07\n",
      "4544    17534.64\n",
      "4545    15966.69\n",
      "Name: radio, Length: 4546, dtype: float64\n",
      "<class 'pandas.core.series.Series'>\n"
     ]
    }
   ],
   "source": [
    "X = sales_df['radio']\n",
    "print(X)\n",
    "print(type(X))"
   ]
  },
  {
   "cell_type": "code",
   "execution_count": 29,
   "id": "44fedc35-206a-4f6c-bbcc-b2cda325c145",
   "metadata": {},
   "outputs": [
    {
     "name": "stdout",
     "output_type": "stream",
     "text": [
      "[ 6566.23  9237.76 15886.45 ... 19800.07 17534.64 15966.69]\n",
      "<class 'numpy.ndarray'>\n",
      "(4546,)\n"
     ]
    }
   ],
   "source": [
    "X = sales_df['radio'].values\n",
    "print(X)\n",
    "print(type(X))\n",
    "print(X.shape)"
   ]
  },
  {
   "cell_type": "code",
   "execution_count": 67,
   "id": "494ff5f3-cbf6-4c73-9e75-1e062b8a0ad6",
   "metadata": {},
   "outputs": [
    {
     "name": "stdout",
     "output_type": "stream",
     "text": [
      "[[ 6566.23]\n",
      " [ 9237.76]\n",
      " [15886.45]\n",
      " ...\n",
      " [19800.07]\n",
      " [17534.64]\n",
      " [15966.69]]\n",
      "After reshaping: (4546, 1)\n",
      "(4546, 1) (4546,)\n"
     ]
    }
   ],
   "source": [
    "y = sales_df['sales'].values\n",
    "X = X.reshape(-1, 1)\n",
    "\n",
    "print(X)\n",
    "print('After reshaping:',X.shape)\n",
    "print(X.shape, y.shape)"
   ]
  },
  {
   "cell_type": "markdown",
   "id": "d1e3da47-f687-4886-9d65-180267195ccd",
   "metadata": {},
   "source": [
    "## Building a linear regression model"
   ]
  },
  {
   "cell_type": "code",
   "execution_count": 52,
   "id": "23db7dc7-b6b9-4474-8764-9c95a7e67524",
   "metadata": {},
   "outputs": [
    {
     "name": "stdout",
     "output_type": "stream",
     "text": [
      "[ 95491.17119147 117829.51038393 173423.38071499 291603.11444202\n",
      " 111137.28167129]\n"
     ]
    }
   ],
   "source": [
    "#from sklearn.linear_model import LinearRegression\n",
    "\n",
    "#Create the model\n",
    "reg = LinearRegression()\n",
    "\n",
    "#Fit the model to the data\n",
    "reg.fit(X, y)\n",
    "\n",
    "#Make predictions\n",
    "predictions = reg.predict(X)\n",
    "\n",
    "print(predictions[:5])"
   ]
  },
  {
   "cell_type": "markdown",
   "id": "743a0de3-4c52-4949-abf1-16be8cb72b24",
   "metadata": {},
   "source": [
    "## Visualizing a linear regression model"
   ]
  },
  {
   "cell_type": "code",
   "execution_count": 57,
   "id": "1976d66b-e2de-4e13-aa14-6da87af349ba",
   "metadata": {},
   "outputs": [
    {
     "data": {
      "image/png": "[encoded data removed]",
      "text/plain": [
       "<Figure size 640x480 with 1 Axes>"
      ]
     },
     "metadata": {},
     "output_type": "display_data"
    }
   ],
   "source": [
    "#Create scatter plot\n",
    "plt.scatter(X, y, color='blue')\n",
    "\n",
    "#Create line plot\n",
    "plt.plot(X, predictions, color='red')\n",
    "\n",
    "plt.xlabel('Radio Exependiture ($)')\n",
    "plt.ylabel('Sales ($)')\n",
    "plt.show()"
   ]
  },
  {
   "cell_type": "markdown",
   "id": "63bc8246-e871-45e7-9d39-b0c4545867b0",
   "metadata": {},
   "source": [
    "## Fit and predict for regression"
   ]
  },
  {
   "cell_type": "code",
   "execution_count": 90,
   "id": "c5c905c4-8740-4abe-806e-085e36387026",
   "metadata": {},
   "outputs": [
    {
     "name": "stdout",
     "output_type": "stream",
     "text": [
      "Predictions: [53176.66154234 70996.19873235], Actual Values: [55261.28 67574.9 ]\n"
     ]
    }
   ],
   "source": [
    "#from sklearn.model_selection import train_test_split\n",
    "\n",
    "X = sales_df.drop(['sales', 'influencer'], axis=1).values\n",
    "y = sales_df['sales'].values\n",
    "\n",
    "X_train, X_test, y_train, y_test = train_test_split(X, y, test_size=0.3, random_state=42)\n",
    "\n",
    "#Instantiate the model\n",
    "reg = LinearRegression()\n",
    "\n",
    "#Fit the model to the date\n",
    "reg.fit(X_train, y_train)\n",
    "\n",
    "#Make predictions\n",
    "y_pred = reg.predict(X_test)\n",
    "\n",
    "print('Predictions: {}, Actual Values: {}'.format(y_pred[:2], y_test[:2]))"
   ]
  },
  {
   "cell_type": "code",
   "execution_count": 88,
   "id": "b44f9970-e757-44e1-89cf-a88a11e4e806",
   "metadata": {},
   "outputs": [
    {
     "name": "stdout",
     "output_type": "stream",
     "text": [
      "tv              float64\n",
      "radio           float64\n",
      "social_media    float64\n",
      "influencer       object\n",
      "sales           float64\n",
      "dtype: object\n"
     ]
    }
   ],
   "source": [
    "print(sales_df.dtypes)"
   ]
  },
  {
   "cell_type": "markdown",
   "id": "49440621-306b-400b-a993-9aae37a9f798",
   "metadata": {},
   "source": [
    "## Regression Performance"
   ]
  },
  {
   "cell_type": "code",
   "execution_count": 109,
   "id": "8b7854cf-ed21-48a0-b567-a0af93ed84e0",
   "metadata": {},
   "outputs": [
    {
     "name": "stdout",
     "output_type": "stream",
     "text": [
      "R^2: 0.9990152104759368\n",
      "RMSE: 2944.4331996001238\n"
     ]
    },
    {
     "name": "stderr",
     "output_type": "stream",
     "text": [
      "/opt/anaconda3/lib/python3.12/site-packages/sklearn/metrics/_regression.py:492: FutureWarning: 'squared' is deprecated in version 1.4 and will be removed in 1.6. To calculate the root mean squared error, use the function'root_mean_squared_error'.\n",
      "  warnings.warn(\n"
     ]
    }
   ],
   "source": [
    "# Import mean_squared_error\n",
    "#from sklearn.metrics import mean_squared_error\n",
    "\n",
    "# Compute R-squared\n",
    "r_squared = reg.score(X_test, y_test)\n",
    "\n",
    "# Compute RMSE\n",
    "rmse = mean_squared_error(y_test, y_pred, squared=False)   #root_mean_squared_error\n",
    "#rmse = root_mean_squared_error(y_test, y_pred)\n",
    "\n",
    "# Print the metrics\n",
    "print(\"R^2: {}\".format(r_squared))\n",
    "print(\"RMSE: {}\".format(rmse))"
   ]
  },
  {
   "cell_type": "code",
   "execution_count": null,
   "id": "c22690ea-d72c-4fb7-8761-14ecb941e869",
   "metadata": {},
   "outputs": [],
   "source": []
  }
 ],
 "metadata": {
  "kernelspec": {
   "display_name": "Python [conda env:base] *",
   "language": "python",
   "name": "conda-base-py"
  },
  "language_info": {
   "codemirror_mode": {
    "name": "ipython",
    "version": 3
   },
   "file_extension": ".py",
   "mimetype": "text/x-python",
   "name": "python",
   "nbconvert_exporter": "python",
   "pygments_lexer": "ipython3",
   "version": "3.12.7"
  }
 },
 "nbformat": 4,
 "nbformat_minor": 5
}
